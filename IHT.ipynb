{
 "cells": [
  {
   "cell_type": "code",
   "execution_count": 31,
   "id": "e012e973",
   "metadata": {},
   "outputs": [],
   "source": [
    "import numpy as np\n",
    "import math\n",
    "import random\n",
    "from random import seed\n",
    "from random import random\n",
    "from numpy import linalg as LA"
   ]
  },
  {
   "cell_type": "code",
   "execution_count": 32,
   "id": "6f8debb5",
   "metadata": {},
   "outputs": [],
   "source": [
    "m=500\n",
    "N=2000"
   ]
  },
  {
   "cell_type": "code",
   "execution_count": 33,
   "id": "388678bd",
   "metadata": {},
   "outputs": [],
   "source": [
    "A=np.random.rand(m,N) # measurement matrix\n",
    "s=2 # sparsity\n",
    "\n",
    "x =np.zeros((N,1))"
   ]
  },
  {
   "cell_type": "code",
   "execution_count": 34,
   "id": "d2c04472",
   "metadata": {},
   "outputs": [
    {
     "name": "stdout",
     "output_type": "stream",
     "text": [
      "[1359, 193]\n"
     ]
    }
   ],
   "source": [
    "import random\n",
    "randomlist = random.sample(range(0, N-1), 2)\n",
    "print(randomlist)  # indeces for non zero values"
   ]
  },
  {
   "cell_type": "code",
   "execution_count": 35,
   "id": "98984da9",
   "metadata": {},
   "outputs": [],
   "source": [
    "from random import random\n",
    "\n",
    "for i in randomlist:\n",
    "    x[i]=random()  \n",
    "\n",
    "y=A.dot(x)  \n",
    "\n",
    "A_T=A.transpose()\n",
    "\n",
    "xn=np.zeros((N,1))\n",
    "xn1=np.zeros((N,1)) #xn+1"
   ]
  },
  {
   "cell_type": "code",
   "execution_count": 36,
   "id": "ec9d7c84",
   "metadata": {},
   "outputs": [],
   "source": [
    "def hard_thresh(x_mat,s):  # function for hard thresholding\n",
    "    n=len(x_mat)\n",
    "    val=[]\n",
    "    \n",
    "    x_mat_temp=np.array\n",
    "    x_mat_temp=np.absolute(x_mat)\n",
    "    ind=x_mat_temp.argsort(axis=0)\n",
    "    \n",
    "    val=ind[-s:]\n",
    "    \n",
    "    for i in range(n):\n",
    "        if i not in val:\n",
    "            x_mat[i]=0\n",
    "        \n",
    "             \n",
    "    return(x_mat)"
   ]
  },
  {
   "cell_type": "code",
   "execution_count": null,
   "id": "7913fcaf",
   "metadata": {},
   "outputs": [],
   "source": [
    "def iht_algo (A,y,s,h,max_iter,tol):\n",
    "    "
   ]
  },
  {
   "cell_type": "code",
   "execution_count": 37,
   "id": "c300c542",
   "metadata": {},
   "outputs": [],
   "source": [
    "tol=0.1\n",
    "rel_inc=[] # relative increment for each iteration\n",
    "it_no=[] # iteration number\n",
    "residual=[] #residual for iterations\n",
    "iteration=0"
   ]
  },
  {
   "cell_type": "code",
   "execution_count": 38,
   "id": "73ac511d",
   "metadata": {},
   "outputs": [],
   "source": [
    "while (iteration<1000):\n",
    "    \n",
    "    if np.array_equal(x, xn1, equal_nan=False)==False: # to check if x==xn1\n",
    "    \n",
    "    \n",
    "        #for i in range (len(randomlist)-1):\n",
    "         #   if x[randomlist[i]]!=xn1[randomlist[i]] and x[randomlist[i+1]]!=xn1[randomlist[i+1]]:\n",
    "\n",
    "\n",
    "\n",
    "        xn1=xn+(0.001*(A_T.dot((y-(A.dot(xn))))))  # IHT statement to find xn+1\n",
    "        xn1=hard_thresh(xn1,s) \n",
    "\n",
    "        xn1_xn=[]\n",
    "        \n",
    "        for k in range (N):\n",
    "            xn1_xn.append(xn1[k]-xn[k])   #xn1-xn\n",
    "\n",
    "\n",
    "        xn1_norm=LA.norm(xn1)  # ||xn1||\n",
    "        xn1_xn_norm=LA.norm(xn1_xn)  # ||xn1-xn||\n",
    "        error=xn1_xn_norm/xn1_norm  # (||xn1-xn||) / (||xn1||)\n",
    "        \n",
    "        if error<tol:\n",
    "            rel_inc.append(error)\n",
    "            it_no.append(iteration)\n",
    "            \n",
    "            res=(A.dot(xn1))-y\n",
    "            res_norm=LA.norm(res)\n",
    "            residual.append(res_norm)         \n",
    "            \n",
    "        xn=xn1\n",
    "        iteration=iteration+1"
   ]
  },
  {
   "cell_type": "code",
   "execution_count": 39,
   "id": "2a951be4",
   "metadata": {},
   "outputs": [
    {
     "name": "stdout",
     "output_type": "stream",
     "text": [
      "1359\n",
      "[0.]\n",
      "[0.13713781]\n",
      "_____________\n",
      "193\n",
      "[0.71309097]\n",
      "[0.65223934]\n",
      "_____________\n"
     ]
    }
   ],
   "source": [
    "for i in randomlist:  # compare values of x and xn1 after final iteration\n",
    "    print(i)\n",
    "    print(xn1[i])\n",
    "    print(x[i])\n",
    "    print(\"_____________\")"
   ]
  },
  {
   "cell_type": "code",
   "execution_count": null,
   "id": "0316fecf",
   "metadata": {},
   "outputs": [],
   "source": []
  },
  {
   "cell_type": "code",
   "execution_count": 40,
   "id": "d7f180df",
   "metadata": {},
   "outputs": [],
   "source": [
    "import matplotlib.pyplot as plt\n"
   ]
  },
  {
   "cell_type": "code",
   "execution_count": 41,
   "id": "662ea14c",
   "metadata": {},
   "outputs": [
    {
     "data": {
      "text/plain": [
       "Text(0, 0.5, 'Residual')"
      ]
     },
     "execution_count": 41,
     "metadata": {},
     "output_type": "execute_result"
    },
    {
     "data": {
      "image/png": "[encoded data removed]",
      "text/plain": [
       "<Figure size 432x288 with 1 Axes>"
      ]
     },
     "metadata": {
      "needs_background": "light"
     },
     "output_type": "display_data"
    }
   ],
   "source": [
    "plt.plot(it_no,residual)  # plot of residual for each iteration\n",
    "plt.xlabel(\"Iteration\")\n",
    "plt.ylabel(\"Residual\")"
   ]
  },
  {
   "cell_type": "code",
   "execution_count": 42,
   "id": "f22b4d38",
   "metadata": {},
   "outputs": [
    {
     "data": {
      "text/plain": [
       "Text(0, 0.5, 'Relative increment')"
      ]
     },
     "execution_count": 42,
     "metadata": {},
     "output_type": "execute_result"
    },
    {
     "data": {
      "image/png": "[encoded data removed]",
      "text/plain": [
       "<Figure size 432x288 with 1 Axes>"
      ]
     },
     "metadata": {
      "needs_background": "light"
     },
     "output_type": "display_data"
    }
   ],
   "source": [
    "plt.plot(it_no,rel_inc)  # plot of relative increment for each iteration\n",
    "plt.xlabel(\"Iteration\")\n",
    "plt.ylabel(\"Relative increment\")"
   ]
  },
  {
   "cell_type": "code",
   "execution_count": 45,
   "id": "4db2eeb2",
   "metadata": {},
   "outputs": [
    {
     "data": {
      "text/plain": [
       "996"
      ]
     },
     "execution_count": 45,
     "metadata": {},
     "output_type": "execute_result"
    }
   ],
   "source": [
    "len(it_no)"
   ]
  },
  {
   "cell_type": "code",
   "execution_count": null,
   "id": "36d7d702",
   "metadata": {},
   "outputs": [],
   "source": []
  }
 ],
 "metadata": {
  "kernelspec": {
   "display_name": "Python 3 (ipykernel)",
   "language": "python",
   "name": "python3"
  },
  "language_info": {
   "codemirror_mode": {
    "name": "ipython",
    "version": 3
   },
   "file_extension": ".py",
   "mimetype": "text/x-python",
   "name": "python",
   "nbconvert_exporter": "python",
   "pygments_lexer": "ipython3",
   "version": "3.9.12"
  }
 },
 "nbformat": 4,
 "nbformat_minor": 5
}
