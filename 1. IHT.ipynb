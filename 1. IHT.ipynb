{
 "cells": [
  {
   "cell_type": "code",
   "execution_count": 130,
   "id": "e012e973",
   "metadata": {},
   "outputs": [],
   "source": [
    "import numpy as np\n",
    "import math\n",
    "import random\n",
    "from random import seed\n",
    "from random import random\n",
    "from numpy import linalg as LA"
   ]
  },
  {
   "cell_type": "code",
   "execution_count": 131,
   "id": "6f8debb5",
   "metadata": {},
   "outputs": [],
   "source": [
    "m=500\n",
    "N=2000"
   ]
  },
  {
   "cell_type": "code",
   "execution_count": 132,
   "id": "388678bd",
   "metadata": {},
   "outputs": [],
   "source": [
    "A=np.random.rand(m,N) # measurement matrix\n",
    "s=2 # sparsity\n",
    "\n",
    "x =np.zeros((N,1))\n",
    "xnminusx=np.array\n",
    "xminusxnorm=[]"
   ]
  },
  {
   "cell_type": "code",
   "execution_count": 113,
   "id": "d2c04472",
   "metadata": {},
   "outputs": [
    {
     "name": "stdout",
     "output_type": "stream",
     "text": [
      "[1644, 732]\n"
     ]
    }
   ],
   "source": [
    "import random\n",
    "randomlist = random.sample(range(0, N-1), 2)\n",
    "print(randomlist)  # indeces for non zero values"
   ]
  },
  {
   "cell_type": "code",
   "execution_count": 114,
   "id": "98984da9",
   "metadata": {},
   "outputs": [],
   "source": [
    "from random import random\n",
    "\n",
    "for i in randomlist:\n",
    "    x[i]=random()  \n",
    "\n",
    "y=A.dot(x)  \n",
    "\n",
    "xn=np.zeros((N,1))\n",
    "xn1=np.zeros((N,1)) #xn+1"
   ]
  },
  {
   "cell_type": "code",
   "execution_count": 115,
   "id": "ccc80f87",
   "metadata": {},
   "outputs": [],
   "source": [
    "#xnminusx=np.array\n",
    "#xminusxnorm=np.array"
   ]
  },
  {
   "cell_type": "code",
   "execution_count": 116,
   "id": "ec9d7c84",
   "metadata": {},
   "outputs": [],
   "source": [
    "def hard_thresh(x_mat,s):  # function for hard thresholding\n",
    "    n=len(x_mat)\n",
    "    val=[]\n",
    "    \n",
    "    x_mat_temp=np.array\n",
    "    x_mat_temp=np.absolute(x_mat)\n",
    "    ind=x_mat_temp.argsort(axis=0)\n",
    "    \n",
    "    val=ind[-s:]\n",
    "    \n",
    "    for i in range(n):\n",
    "        if i not in val:\n",
    "            x_mat[i]=0\n",
    "        \n",
    "             \n",
    "    return(x_mat)"
   ]
  },
  {
   "cell_type": "code",
   "execution_count": 117,
   "id": "ea1ff6d7",
   "metadata": {},
   "outputs": [],
   "source": [
    "def plot_xn_vs_x(xn,x):\n",
    "    diff=xn-x\n",
    "    #xnminusx=np.array\n",
    "    #xnminusx=np.append(xnminusx,diff)\n",
    "    xminusxnorm.append(LA.norm(diff))\n",
    "    return xminusxnorm\n",
    "    \n",
    "    "
   ]
  },
  {
   "cell_type": "code",
   "execution_count": 118,
   "id": "7913fcaf",
   "metadata": {},
   "outputs": [],
   "source": [
    "def iht_algo (A,y,s,h,max_iter,tol,xn,x):\n",
    "    iteration=0\n",
    "    rel_inc=[]\n",
    "    residual=[]\n",
    "    rel_incr=10\n",
    "    \n",
    "    xnminusx=np.array\n",
    "    xminusxnorm=np.array\n",
    "    \n",
    "    \n",
    "    xn1=np.zeros((N,1)) #xn+1\n",
    "    \n",
    "    while iteration<max_iter and rel_incr>tol:\n",
    "        A_tol=A.transpose()\n",
    "        xn1=xn+(h*(A_tol.dot((y-(A.dot(xn))))))\n",
    "        xn1=hard_thresh(xn1,s)\n",
    "        \n",
    "        rel_incr=LA.norm(xn1-xn)/LA.norm(xn1)\n",
    "        rel_inc.append(rel_incr)\n",
    "        \n",
    "        residual.append(LA.norm((A.dot(xn1))-y))\n",
    "        \n",
    "        iteration=iteration+1\n",
    "        \n",
    "        xminusxnorm=plot_xn_vs_x(xn1,x)\n",
    "        \n",
    "        xn=xn1\n",
    "           \n",
    "    return xn,rel_inc,residual,iteration,xminusxnorm "
   ]
  },
  {
   "cell_type": "code",
   "execution_count": 119,
   "id": "c53c4d43",
   "metadata": {},
   "outputs": [],
   "source": [
    "xnplus1,rel_inc,residual,iters,xminusxnorm=iht_algo(A,y,s,0.001,1000,0.00001,xn,x)"
   ]
  },
  {
   "cell_type": "code",
   "execution_count": 120,
   "id": "7a728ce5",
   "metadata": {},
   "outputs": [
    {
     "data": {
      "text/plain": [
       "153"
      ]
     },
     "execution_count": 120,
     "metadata": {},
     "output_type": "execute_result"
    }
   ],
   "source": [
    "iters"
   ]
  },
  {
   "cell_type": "code",
   "execution_count": null,
   "id": "ab48e8cd",
   "metadata": {},
   "outputs": [],
   "source": []
  },
  {
   "cell_type": "code",
   "execution_count": 121,
   "id": "2a951be4",
   "metadata": {},
   "outputs": [
    {
     "name": "stdout",
     "output_type": "stream",
     "text": [
      "1644\n",
      "[0.76147231]\n",
      "[0.76127493]\n",
      "_____________\n",
      "732\n",
      "[0.95833105]\n",
      "[0.95853153]\n",
      "_____________\n"
     ]
    }
   ],
   "source": [
    "for i in randomlist:  # compare values of x and xn1 after final iteration\n",
    "    print(i)\n",
    "    print(xnplus1[i])\n",
    "    print(x[i])\n",
    "    print(\"_____________\")"
   ]
  },
  {
   "cell_type": "code",
   "execution_count": null,
   "id": "14546786",
   "metadata": {},
   "outputs": [],
   "source": []
  },
  {
   "cell_type": "code",
   "execution_count": 122,
   "id": "4a75708f",
   "metadata": {},
   "outputs": [],
   "source": [
    "import matplotlib.pyplot as plt"
   ]
  },
  {
   "cell_type": "code",
   "execution_count": 123,
   "id": "662ea14c",
   "metadata": {},
   "outputs": [
    {
     "data": {
      "text/plain": [
       "Text(0, 0.5, 'Residual')"
      ]
     },
     "execution_count": 123,
     "metadata": {},
     "output_type": "execute_result"
    },
    {
     "data": {
      "image/png": "[encoded data removed]",
      "text/plain": [
       "<Figure size 432x288 with 1 Axes>"
      ]
     },
     "metadata": {
      "needs_background": "light"
     },
     "output_type": "display_data"
    }
   ],
   "source": [
    "plt.plot(residual)  # plot of residual for each iteration\n",
    "plt.xlabel(\"Iteration\")\n",
    "plt.ylabel(\"Residual\")\n",
    "#plt.yscale('log')"
   ]
  },
  {
   "cell_type": "code",
   "execution_count": 124,
   "id": "f22b4d38",
   "metadata": {},
   "outputs": [
    {
     "data": {
      "text/plain": [
       "Text(0, 0.5, 'Relative increment')"
      ]
     },
     "execution_count": 124,
     "metadata": {},
     "output_type": "execute_result"
    },
    {
     "data": {
      "image/png": "[encoded data removed]",
      "text/plain": [
       "<Figure size 432x288 with 1 Axes>"
      ]
     },
     "metadata": {
      "needs_background": "light"
     },
     "output_type": "display_data"
    }
   ],
   "source": [
    "plt.plot(rel_inc)  # plot of relative increment for each iteration\n",
    "plt.xlabel(\"Iteration\")\n",
    "plt.ylabel(\"Relative increment\")\n",
    "#plt.yscale('log')"
   ]
  },
  {
   "cell_type": "code",
   "execution_count": 126,
   "id": "acb178a3",
   "metadata": {},
   "outputs": [
    {
     "data": {
      "text/plain": [
       "Text(0, 0.5, 'norm(xn-x)')"
      ]
     },
     "execution_count": 126,
     "metadata": {},
     "output_type": "execute_result"
    },
    {
     "data": {
      "image/png": "[encoded data removed]",
      "text/plain": [
       "<Figure size 432x288 with 1 Axes>"
      ]
     },
     "metadata": {
      "needs_background": "light"
     },
     "output_type": "display_data"
    }
   ],
   "source": [
    "plt.plot(xminusxnorm)  # plot of ||xn-x||\n",
    "plt.xlabel(\"Iteration\")\n",
    "plt.ylabel(\"norm(xn-x)\")    "
   ]
  },
  {
   "cell_type": "code",
   "execution_count": null,
   "id": "931522f7",
   "metadata": {},
   "outputs": [],
   "source": []
  },
  {
   "cell_type": "code",
   "execution_count": null,
   "id": "71abd309",
   "metadata": {},
   "outputs": [],
   "source": []
  },
  {
   "cell_type": "code",
   "execution_count": null,
   "id": "62d299ce",
   "metadata": {},
   "outputs": [],
   "source": []
  },
  {
   "cell_type": "code",
   "execution_count": null,
   "id": "d16f8ceb",
   "metadata": {},
   "outputs": [],
   "source": []
  },
  {
   "cell_type": "code",
   "execution_count": null,
   "id": "cb099ae6",
   "metadata": {},
   "outputs": [],
   "source": []
  },
  {
   "cell_type": "code",
   "execution_count": null,
   "id": "1aa00ee5",
   "metadata": {},
   "outputs": [],
   "source": []
  },
  {
   "cell_type": "code",
   "execution_count": null,
   "id": "09fbc47c",
   "metadata": {},
   "outputs": [],
   "source": []
  },
  {
   "cell_type": "code",
   "execution_count": null,
   "id": "1e3e202b",
   "metadata": {},
   "outputs": [],
   "source": [
    "#plt.plot(xnminusx)  # plot of xn-x\n",
    "#plt.xlabel(\"Iteration\")\n",
    "#plt.ylabel(\"xn-x\") "
   ]
  }
 ],
 "metadata": {
  "kernelspec": {
   "display_name": "Python 3 (ipykernel)",
   "language": "python",
   "name": "python3"
  },
  "language_info": {
   "codemirror_mode": {
    "name": "ipython",
    "version": 3
   },
   "file_extension": ".py",
   "mimetype": "text/x-python",
   "name": "python",
   "nbconvert_exporter": "python",
   "pygments_lexer": "ipython3",
   "version": "3.9.12"
  }
 },
 "nbformat": 4,
 "nbformat_minor": 5
}
