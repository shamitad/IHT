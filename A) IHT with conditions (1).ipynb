{
 "cells": [
  {
   "cell_type": "code",
   "execution_count": 460,
   "id": "981859a0",
   "metadata": {},
   "outputs": [],
   "source": [
    "import numpy as np\n",
    "import math\n",
    "import random\n",
    "from random import seed\n",
    "from random import random\n",
    "from numpy import linalg as LA"
   ]
  },
  {
   "cell_type": "code",
   "execution_count": 461,
   "id": "2b739112",
   "metadata": {},
   "outputs": [],
   "source": [
    "m=500\n",
    "N=2000"
   ]
  },
  {
   "cell_type": "code",
   "execution_count": 462,
   "id": "c9a837f7",
   "metadata": {},
   "outputs": [],
   "source": [
    "A=np.random.rand(m,N) # measurement matrix\n",
    "s=2 # sparsity\n",
    "\n",
    "x =np.zeros((N,1))\n"
   ]
  },
  {
   "cell_type": "code",
   "execution_count": 463,
   "id": "1919d7a0",
   "metadata": {},
   "outputs": [
    {
     "name": "stdout",
     "output_type": "stream",
     "text": [
      "[1691, 1719]\n"
     ]
    }
   ],
   "source": [
    "import random\n",
    "randomlist = random.sample(range(0, N-1), 2)\n",
    "print(randomlist)  # indeces for non zero values"
   ]
  },
  {
   "cell_type": "code",
   "execution_count": 464,
   "id": "fed2a536",
   "metadata": {},
   "outputs": [],
   "source": [
    "from random import random\n",
    "\n",
    "for i in randomlist:\n",
    "    x[i]=random()  \n",
    "\n",
    "y=A.dot(x)  \n",
    "\n",
    "A_T=A.transpose()\n",
    "\n",
    "xn=np.zeros((N,1))\n",
    "xn1=np.zeros((N,1)) #xn+1\n"
   ]
  },
  {
   "cell_type": "code",
   "execution_count": 465,
   "id": "dea6e6df",
   "metadata": {},
   "outputs": [],
   "source": [
    "def hard_thresh(x_mat):  # function for hard thresholding\n",
    "    n=len(x_mat)\n",
    "    x_mat=np.absolute(x_mat)\n",
    "    ind=x_mat.argsort(axis=0)\n",
    "    \n",
    "    for i in ind:\n",
    "        if i!=n-1 and i!=n-2:\n",
    "            \n",
    "            x_mat[ind[i]]=0\n",
    "            \n",
    "    return(x_mat)"
   ]
  },
  {
   "cell_type": "code",
   "execution_count": 466,
   "id": "15584712",
   "metadata": {},
   "outputs": [],
   "source": [
    "tol=0.00001\n",
    "rel_inc=[] # relative increment for each iteration\n",
    "it_no=[] # iteration number\n",
    "residual=[] #residual for iterations\n",
    "iteration=0\n"
   ]
  },
  {
   "cell_type": "code",
   "execution_count": 467,
   "id": "3b3bbfc1",
   "metadata": {},
   "outputs": [],
   "source": [
    "while (iteration<1000):\n",
    "    \n",
    "    if np.array_equal(x, xn1, equal_nan=False)==False: # to check if x==xn1\n",
    "    \n",
    "    \n",
    "        #for i in range (len(randomlist)-1):\n",
    "         #   if x[randomlist[i]]!=xn1[randomlist[i]] and x[randomlist[i+1]]!=xn1[randomlist[i+1]]:\n",
    "\n",
    "\n",
    "\n",
    "        xn1=xn+(0.001*(A_T.dot((y-(A.dot(xn))))))  # IHT statement to find xn+1\n",
    "        xn1=hard_thresh(xn1) \n",
    "\n",
    "        xn1_xn=[]\n",
    "        \n",
    "        for k in range (N):\n",
    "            xn1_xn.append(xn1[k]-xn[k])   #xn1-xn\n",
    "\n",
    "\n",
    "        xn1_norm=LA.norm(xn1)  # ||xn1||\n",
    "        xn1_xn_norm=LA.norm(xn1_xn)  # ||xn1-xn||\n",
    "        error=xn1_xn_norm/xn1_norm  # (||xn1-xn||) / (||xn1||)\n",
    "        \n",
    "        if error<tol:\n",
    "            rel_inc.append(error)\n",
    "            it_no.append(iteration)\n",
    "            \n",
    "            res=(A.dot(xn1))-y\n",
    "            res_norm=LA.norm(res)\n",
    "            residual.append(res_norm)         \n",
    "            \n",
    "        xn=xn1\n",
    "        iteration=iteration+1"
   ]
  },
  {
   "cell_type": "code",
   "execution_count": 468,
   "id": "9ebb7222",
   "metadata": {},
   "outputs": [
    {
     "name": "stdout",
     "output_type": "stream",
     "text": [
      "1691\n",
      "[0.89492429]\n",
      "[0.89492429]\n",
      "_____________\n",
      "1719\n",
      "[0.826816]\n",
      "[0.826816]\n",
      "_____________\n"
     ]
    }
   ],
   "source": [
    "for i in randomlist:  # compare values of x and xn1 after final iteration\n",
    "    print(i)\n",
    "    print(xn1[i])\n",
    "    print(x[i])\n",
    "    print(\"_____________\")"
   ]
  },
  {
   "cell_type": "code",
   "execution_count": null,
   "id": "b2e59eb3",
   "metadata": {},
   "outputs": [],
   "source": []
  },
  {
   "cell_type": "code",
   "execution_count": 469,
   "id": "b793e2cb",
   "metadata": {},
   "outputs": [],
   "source": [
    "import matplotlib.pyplot as plt"
   ]
  },
  {
   "cell_type": "code",
   "execution_count": 470,
   "id": "7661f9b9",
   "metadata": {},
   "outputs": [
    {
     "data": {
      "image/png": "[encoded data removed]",
      "text/plain": [
       "<Figure size 432x288 with 1 Axes>"
      ]
     },
     "metadata": {
      "needs_background": "light"
     },
     "output_type": "display_data"
    }
   ],
   "source": [
    "plt.plot(it_no,residual)  # plot of residual for each iteration\n",
    "plt.xlabel(\"Iteration\")\n",
    "plt.ylabel(\"Residual\")\n",
    "plt.yscale('log')"
   ]
  },
  {
   "cell_type": "code",
   "execution_count": 471,
   "id": "573b08ab",
   "metadata": {},
   "outputs": [
    {
     "data": {
      "text/plain": [
       "Text(0, 0.5, 'Residual')"
      ]
     },
     "execution_count": 471,
     "metadata": {},
     "output_type": "execute_result"
    },
    {
     "data": {
      "image/png": "[encoded data removed]",
      "text/plain": [
       "<Figure size 432x288 with 1 Axes>"
      ]
     },
     "metadata": {
      "needs_background": "light"
     },
     "output_type": "display_data"
    }
   ],
   "source": [
    "plt.plot(it_no,residual)  # plot of residual for each iteration\n",
    "plt.xlabel(\"Iteration\")\n",
    "plt.ylabel(\"Residual\")"
   ]
  },
  {
   "cell_type": "code",
   "execution_count": null,
   "id": "caef8541",
   "metadata": {},
   "outputs": [],
   "source": []
  },
  {
   "cell_type": "code",
   "execution_count": null,
   "id": "1314e7d7",
   "metadata": {},
   "outputs": [],
   "source": []
  },
  {
   "cell_type": "code",
   "execution_count": 472,
   "id": "d9a96f4e",
   "metadata": {},
   "outputs": [
    {
     "data": {
      "image/png": "[encoded data removed]",
      "text/plain": [
       "<Figure size 432x288 with 1 Axes>"
      ]
     },
     "metadata": {
      "needs_background": "light"
     },
     "output_type": "display_data"
    }
   ],
   "source": [
    "plt.plot(it_no,rel_inc)  # plot of relative increment for each iteration\n",
    "plt.xlabel(\"Iteration\")\n",
    "plt.ylabel(\"Relative increment\")\n",
    "plt.yscale('log')"
   ]
  },
  {
   "cell_type": "code",
   "execution_count": 473,
   "id": "384f82b0",
   "metadata": {},
   "outputs": [
    {
     "data": {
      "text/plain": [
       "Text(0, 0.5, 'Relative increment')"
      ]
     },
     "execution_count": 473,
     "metadata": {},
     "output_type": "execute_result"
    },
    {
     "data": {
      "image/png": "[encoded data removed]",
      "text/plain": [
       "<Figure size 432x288 with 1 Axes>"
      ]
     },
     "metadata": {
      "needs_background": "light"
     },
     "output_type": "display_data"
    }
   ],
   "source": [
    "plt.plot(it_no,rel_inc)  # plot of relative increment for each iteration\n",
    "plt.xlabel(\"Iteration\")\n",
    "plt.ylabel(\"Relative increment\")"
   ]
  },
  {
   "cell_type": "code",
   "execution_count": null,
   "id": "f8489497",
   "metadata": {},
   "outputs": [],
   "source": []
  },
  {
   "cell_type": "code",
   "execution_count": null,
   "id": "33495239",
   "metadata": {},
   "outputs": [],
   "source": []
  }
 ],
 "metadata": {
  "kernelspec": {
   "display_name": "Python 3 (ipykernel)",
   "language": "python",
   "name": "python3"
  },
  "language_info": {
   "codemirror_mode": {
    "name": "ipython",
    "version": 3
   },
   "file_extension": ".py",
   "mimetype": "text/x-python",
   "name": "python",
   "nbconvert_exporter": "python",
   "pygments_lexer": "ipython3",
   "version": "3.9.12"
  }
 },
 "nbformat": 4,
 "nbformat_minor": 5
}
