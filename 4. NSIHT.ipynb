{
 "cells": [
  {
   "cell_type": "code",
   "execution_count": 10,
   "id": "c2fd2f07",
   "metadata": {},
   "outputs": [],
   "source": [
    "import numpy as np\n",
    "import math\n",
    "import random\n",
    "from random import seed\n",
    "from random import random\n",
    "from numpy import linalg as LA\n",
    "import scipy.linalg.interpolative\n",
    "import random\n",
    "import matplotlib.pyplot as plt"
   ]
  },
  {
   "cell_type": "code",
   "execution_count": 11,
   "id": "218dd1f7",
   "metadata": {},
   "outputs": [],
   "source": [
    "def hard_thresh(x_mat,s):  # function for hard thresholding\n",
    "    n=len(x_mat)\n",
    "    val=[]\n",
    "    \n",
    "    x_mat_temp=np.array\n",
    "    x_mat_temp=np.absolute(x_mat)\n",
    "    ind=x_mat_temp.argsort(axis=0)\n",
    "    \n",
    "    val=ind[-s:]\n",
    "    \n",
    "    for i in range(n):\n",
    "        if i not in val:\n",
    "            x_mat[i]=0\n",
    "        \n",
    "             \n",
    "    return(x_mat)"
   ]
  },
  {
   "cell_type": "code",
   "execution_count": 12,
   "id": "654a9d6f",
   "metadata": {},
   "outputs": [],
   "source": [
    "def plot_xn_vs_x(xn,x):\n",
    "    diff=xn-x\n",
    "    xminusxnorm.append(LA.norm(diff))\n",
    "    return xminusxnorm   \n",
    "    "
   ]
  },
  {
   "cell_type": "code",
   "execution_count": 13,
   "id": "2432a56c",
   "metadata": {},
   "outputs": [],
   "source": [
    "m=500\n",
    "N=2000\n",
    "s=3"
   ]
  },
  {
   "cell_type": "code",
   "execution_count": 14,
   "id": "f455e34f",
   "metadata": {},
   "outputs": [],
   "source": [
    "A=np.random.randn(m,N) # measurement matrix\n",
    "x =np.zeros((N,1))\n",
    "a=LA.norm(A,2)\n",
    "A=A/(a)\n",
    "xminusxnorm=[]"
   ]
  },
  {
   "cell_type": "code",
   "execution_count": 15,
   "id": "9199bf44",
   "metadata": {},
   "outputs": [],
   "source": [
    "import random\n",
    "randomlist = random.sample(range(0, N-1), s) # indeces for non zero values\n",
    "from random import random\n",
    "     \n",
    "for i in randomlist:\n",
    "    x[i]=random()  \n",
    "\n",
    "y=A.dot(x)  "
   ]
  },
  {
   "cell_type": "code",
   "execution_count": 16,
   "id": "1ffa51ff",
   "metadata": {},
   "outputs": [],
   "source": [
    "xn=np.zeros((N,1))\n",
    "xn1=np.zeros((N,1)) #xn+1\n",
    "\n",
    "\n",
    "def NSIHT (A,y,s,e,h,max_iter,xn,x,tol):\n",
    "    iteration=0\n",
    "    rel_inc=[]\n",
    "    residual=[]\n",
    "    rel_incr=10\n",
    "    \n",
    "    xminusxnorm=[]\n",
    "    \n",
    "    I=np.identity(N)\n",
    "    xn1=np.zeros((N,1)) #xn+1\n",
    "    \n",
    "    while iteration<max_iter and rel_incr>tol:\n",
    "        \n",
    "        A_trans=A.transpose()\n",
    "        inv=(A_trans.dot(A))+(e*I)\n",
    "        inv=np.linalg.inv(inv) \n",
    "        \n",
    "        xn1=xn+(h*inv.dot((A_trans.dot(y-A.dot(xn)))))      \n",
    "        xn1=hard_thresh(xn1,s)\n",
    "        \n",
    "        rel_incr=LA.norm(xn1-xn)/LA.norm(xn1)\n",
    "        rel_inc.append(rel_incr)\n",
    "        \n",
    "        residual.append(LA.norm((A.dot(xn1))-y))\n",
    "        \n",
    "        iteration=iteration+1\n",
    "        \n",
    "        xminusxnorm=plot_xn_vs_x(xn1,x)\n",
    "        \n",
    "        xn=xn1\n",
    "           \n",
    "    return xn,rel_inc,residual,iteration,xminusxnorm "
   ]
  },
  {
   "cell_type": "code",
   "execution_count": 17,
   "id": "b28ffcab",
   "metadata": {},
   "outputs": [],
   "source": [
    "x_star,rel_inc,resi,iter_no,xminusxnorm=NSIHT(A,y,s,1,1,700,xn,x,1e-6)"
   ]
  },
  {
   "cell_type": "code",
   "execution_count": 18,
   "id": "9728edf7",
   "metadata": {},
   "outputs": [
    {
     "name": "stdout",
     "output_type": "stream",
     "text": [
      "1676\n",
      "[0.90866611]\n",
      "[0.90867308]\n",
      "_____________\n",
      "813\n",
      "[0.26056923]\n",
      "[0.26057101]\n",
      "_____________\n",
      "16\n",
      "[0.31815888]\n",
      "[0.31816999]\n",
      "_____________\n"
     ]
    }
   ],
   "source": [
    "for i in randomlist:  # compare values of x and xn1 after final iteration\n",
    "    print(i)\n",
    "    print(x_star[i])\n",
    "    print(x[i])\n",
    "    print(\"_____________\")"
   ]
  },
  {
   "cell_type": "code",
   "execution_count": 19,
   "id": "d90fbd11",
   "metadata": {},
   "outputs": [
    {
     "data": {
      "text/plain": [
       "154"
      ]
     },
     "execution_count": 19,
     "metadata": {},
     "output_type": "execute_result"
    }
   ],
   "source": [
    "iter_no"
   ]
  },
  {
   "cell_type": "code",
   "execution_count": 21,
   "id": "f1ef23bb",
   "metadata": {},
   "outputs": [
    {
     "data": {
      "image/png": "[encoded data removed]",
      "text/plain": [
       "<Figure size 432x288 with 1 Axes>"
      ]
     },
     "metadata": {
      "needs_background": "light"
     },
     "output_type": "display_data"
    }
   ],
   "source": [
    "plt.plot(resi )  # plot of residual for each iteration\n",
    "plt.xlabel(\"Iteration\")\n",
    "plt.ylabel(\"Residual\")\n",
    "plt.yscale('log')"
   ]
  },
  {
   "cell_type": "code",
   "execution_count": 22,
   "id": "d9ad038f",
   "metadata": {},
   "outputs": [
    {
     "data": {
      "image/png": "[encoded data removed]",
      "text/plain": [
       "<Figure size 432x288 with 1 Axes>"
      ]
     },
     "metadata": {
      "needs_background": "light"
     },
     "output_type": "display_data"
    }
   ],
   "source": [
    "plt.plot(rel_inc)  # plot of relative increment for each iteration\n",
    "plt.xlabel(\"Iteration\")\n",
    "plt.ylabel(\"Relative increment\")\n",
    "plt.yscale('log')"
   ]
  },
  {
   "cell_type": "code",
   "execution_count": 23,
   "id": "a8308721",
   "metadata": {},
   "outputs": [
    {
     "data": {
      "image/png": "[encoded data removed]",
      "text/plain": [
       "<Figure size 432x288 with 1 Axes>"
      ]
     },
     "metadata": {
      "needs_background": "light"
     },
     "output_type": "display_data"
    }
   ],
   "source": [
    "plt.plot(xminusxnorm)  # plot of ||xn-x||\n",
    "plt.xlabel(\"Iteration\")\n",
    "plt.ylabel(\"Relative error\")  \n",
    "plt.yscale('log')"
   ]
  },
  {
   "cell_type": "code",
   "execution_count": null,
   "id": "99ae66af",
   "metadata": {},
   "outputs": [],
   "source": []
  }
 ],
 "metadata": {
  "kernelspec": {
   "display_name": "Python 3 (ipykernel)",
   "language": "python",
   "name": "python3"
  },
  "language_info": {
   "codemirror_mode": {
    "name": "ipython",
    "version": 3
   },
   "file_extension": ".py",
   "mimetype": "text/x-python",
   "name": "python",
   "nbconvert_exporter": "python",
   "pygments_lexer": "ipython3",
   "version": "3.9.12"
  }
 },
 "nbformat": 4,
 "nbformat_minor": 5
}
