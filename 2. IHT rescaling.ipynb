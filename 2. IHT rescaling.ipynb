{
 "cells": [
  {
   "cell_type": "code",
   "execution_count": 61,
   "id": "e012e973",
   "metadata": {},
   "outputs": [],
   "source": [
    "import numpy as np\n",
    "import math\n",
    "import random\n",
    "from random import seed\n",
    "from random import random\n",
    "from numpy import linalg as LA"
   ]
  },
  {
   "cell_type": "code",
   "execution_count": 62,
   "id": "6f8debb5",
   "metadata": {},
   "outputs": [],
   "source": [
    "m=500\n",
    "N=2000"
   ]
  },
  {
   "cell_type": "code",
   "execution_count": 63,
   "id": "388678bd",
   "metadata": {},
   "outputs": [],
   "source": [
    "A=math.sqrt(m/N)* np.random.rand(m,N) # measurement matrix\n",
    "\n",
    "\n",
    "s=5# sparsity\n",
    "\n",
    "x =np.zeros((N,1))\n",
    "xnminusx=np.array\n",
    "xminusxnorm=[]"
   ]
  },
  {
   "cell_type": "code",
   "execution_count": 64,
   "id": "d2c04472",
   "metadata": {},
   "outputs": [
    {
     "name": "stdout",
     "output_type": "stream",
     "text": [
      "[528, 1042]\n"
     ]
    }
   ],
   "source": [
    "import random\n",
    "randomlist = random.sample(range(0, N-1), 2)\n",
    "print(randomlist)  # indeces for non zero values"
   ]
  },
  {
   "cell_type": "code",
   "execution_count": 65,
   "id": "98984da9",
   "metadata": {},
   "outputs": [],
   "source": [
    "from random import random\n",
    "\n",
    "for i in randomlist:\n",
    "    x[i]=random()  \n",
    "\n",
    "y=A.dot(x)  \n",
    "\n",
    "xn=np.zeros((N,1))\n",
    "xn1=np.zeros((N,1)) #xn+1"
   ]
  },
  {
   "cell_type": "code",
   "execution_count": 66,
   "id": "ec9d7c84",
   "metadata": {},
   "outputs": [],
   "source": [
    "def hard_thresh(x_mat,s):  # function for hard thresholding\n",
    "    n=len(x_mat)\n",
    "    val=[]\n",
    "    \n",
    "    x_mat_temp=np.array\n",
    "    x_mat_temp=np.absolute(x_mat)\n",
    "    ind=x_mat_temp.argsort(axis=0)\n",
    "    \n",
    "    val=ind[-s:]\n",
    "    \n",
    "    for i in range(n):\n",
    "        if i not in val:\n",
    "            x_mat[i]=0\n",
    "        \n",
    "             \n",
    "    return(x_mat)"
   ]
  },
  {
   "cell_type": "code",
   "execution_count": 67,
   "id": "ea1ff6d7",
   "metadata": {},
   "outputs": [],
   "source": [
    "def plot_xn_vs_x(xn,x):\n",
    "    diff=xn-x\n",
    "    xminusxnorm.append(LA.norm(diff))\n",
    "    return xminusxnorm\n",
    "    \n",
    "    "
   ]
  },
  {
   "cell_type": "code",
   "execution_count": 75,
   "id": "7913fcaf",
   "metadata": {},
   "outputs": [],
   "source": [
    "def iht_algo (A,y,s,h,max_iter,tol,xn,x):\n",
    "    iteration=0\n",
    "    rel_inc=[]\n",
    "    residual=[]\n",
    "    rel_incr=10\n",
    "    \n",
    "    xnminusx=np.array\n",
    "    xminusxnorm=np.array\n",
    "    \n",
    "    \n",
    "    xn1=np.zeros((N,1)) #xn+1\n",
    "    \n",
    "    while iteration<max_iter and rel_incr>tol:\n",
    "        A_tol=A.transpose()\n",
    "        xn1=xn+(h*(A_tol.dot((y-(A.dot(xn))))))\n",
    "        xn1=hard_thresh(xn1,s)\n",
    "        \n",
    "        rel_incr=LA.norm(xn1-xn)/LA.norm(xn1)\n",
    "        rel_inc.append(rel_incr)\n",
    "        \n",
    "        residual.append(LA.norm((A.dot(xn1))-y))\n",
    "        \n",
    "        iteration=iteration+1\n",
    "        \n",
    "        xminusxnorm=plot_xn_vs_x(xn1,x)\n",
    "        \n",
    "        xn=xn1\n",
    "           \n",
    "    return xn,rel_inc,residual,iteration,xminusxnorm "
   ]
  },
  {
   "cell_type": "code",
   "execution_count": 76,
   "id": "c53c4d43",
   "metadata": {},
   "outputs": [],
   "source": [
    "xnplus1,rel_inc,residual,iters,xminusxnorm=iht_algo(A,y,s,0.00055,1000,0.1,xn,x)"
   ]
  },
  {
   "cell_type": "code",
   "execution_count": 77,
   "id": "7a728ce5",
   "metadata": {},
   "outputs": [
    {
     "data": {
      "text/plain": [
       "8"
      ]
     },
     "execution_count": 77,
     "metadata": {},
     "output_type": "execute_result"
    }
   ],
   "source": [
    "iters"
   ]
  },
  {
   "cell_type": "code",
   "execution_count": null,
   "id": "ab48e8cd",
   "metadata": {},
   "outputs": [],
   "source": []
  },
  {
   "cell_type": "code",
   "execution_count": 78,
   "id": "2a951be4",
   "metadata": {},
   "outputs": [
    {
     "name": "stdout",
     "output_type": "stream",
     "text": [
      "528\n",
      "[0.06666222]\n",
      "[0.30288155]\n",
      "_____________\n",
      "1042\n",
      "[0.06127012]\n",
      "[0.2359005]\n",
      "_____________\n"
     ]
    }
   ],
   "source": [
    "for i in randomlist:  # compare values of x and xn1 after final iteration\n",
    "    print(i)\n",
    "    print(xnplus1[i])\n",
    "    print(x[i])\n",
    "    print(\"_____________\")"
   ]
  },
  {
   "cell_type": "code",
   "execution_count": null,
   "id": "14546786",
   "metadata": {},
   "outputs": [],
   "source": []
  },
  {
   "cell_type": "code",
   "execution_count": 79,
   "id": "4a75708f",
   "metadata": {},
   "outputs": [],
   "source": [
    "import matplotlib.pyplot as plt"
   ]
  },
  {
   "cell_type": "code",
   "execution_count": 80,
   "id": "662ea14c",
   "metadata": {},
   "outputs": [
    {
     "data": {
      "text/plain": [
       "Text(0, 0.5, 'Residual')"
      ]
     },
     "execution_count": 80,
     "metadata": {},
     "output_type": "execute_result"
    },
    {
     "data": {
      "image/png": "[encoded data removed]",
      "text/plain": [
       "<Figure size 432x288 with 1 Axes>"
      ]
     },
     "metadata": {
      "needs_background": "light"
     },
     "output_type": "display_data"
    }
   ],
   "source": [
    "plt.plot(residual)  # plot of residual for each iteration\n",
    "plt.xlabel(\"Iteration\")\n",
    "plt.ylabel(\"Residual\")\n",
    "#plt.yscale('log')"
   ]
  },
  {
   "cell_type": "code",
   "execution_count": 81,
   "id": "f22b4d38",
   "metadata": {},
   "outputs": [
    {
     "data": {
      "text/plain": [
       "Text(0, 0.5, 'Relative increment')"
      ]
     },
     "execution_count": 81,
     "metadata": {},
     "output_type": "execute_result"
    },
    {
     "data": {
      "image/png": "[encoded data removed]",
      "text/plain": [
       "<Figure size 432x288 with 1 Axes>"
      ]
     },
     "metadata": {
      "needs_background": "light"
     },
     "output_type": "display_data"
    }
   ],
   "source": [
    "plt.plot(rel_inc)  # plot of relative increment for each iteration\n",
    "plt.xlabel(\"Iteration\")\n",
    "plt.ylabel(\"Relative increment\")\n",
    "#plt.yscale('log')"
   ]
  },
  {
   "cell_type": "code",
   "execution_count": 82,
   "id": "acb178a3",
   "metadata": {},
   "outputs": [
    {
     "data": {
      "text/plain": [
       "Text(0, 0.5, 'norm(xn-x)')"
      ]
     },
     "execution_count": 82,
     "metadata": {},
     "output_type": "execute_result"
    },
    {
     "data": {
      "image/png": "[encoded data removed]",
      "text/plain": [
       "<Figure size 432x288 with 1 Axes>"
      ]
     },
     "metadata": {
      "needs_background": "light"
     },
     "output_type": "display_data"
    }
   ],
   "source": [
    "plt.plot(xminusxnorm)  # plot of ||xn-x||\n",
    "plt.xlabel(\"Iteration\")\n",
    "plt.ylabel(\"norm(xn-x)\")    "
   ]
  },
  {
   "cell_type": "code",
   "execution_count": 83,
   "id": "471336b6",
   "metadata": {},
   "outputs": [
    {
     "data": {
      "text/plain": [
       "[0.29005791166116374,\n",
       " 0.27511290073453865,\n",
       " 0.36892512923348003,\n",
       " 0.35610664372776296,\n",
       " 0.34514643658399263,\n",
       " 0.3357705623070139,\n",
       " 0.3277373483176887,\n",
       " 0.32083574739049164,\n",
       " 0.31488321646229334,\n",
       " 0.3097232543866413,\n",
       " 0.36892512923348003,\n",
       " 0.35610664372776296,\n",
       " 0.34514643658399263,\n",
       " 0.3357705623070139,\n",
       " 0.3277373483176887,\n",
       " 0.32083574739049164,\n",
       " 0.31488321646229334,\n",
       " 0.3097232543866413]"
      ]
     },
     "execution_count": 83,
     "metadata": {},
     "output_type": "execute_result"
    }
   ],
   "source": [
    "xminusxnorm\n"
   ]
  },
  {
   "cell_type": "code",
   "execution_count": null,
   "id": "1189bcea",
   "metadata": {},
   "outputs": [],
   "source": []
  },
  {
   "cell_type": "code",
   "execution_count": null,
   "id": "d117d68b",
   "metadata": {},
   "outputs": [],
   "source": []
  },
  {
   "cell_type": "code",
   "execution_count": null,
   "id": "cbc540f0",
   "metadata": {},
   "outputs": [],
   "source": []
  },
  {
   "cell_type": "code",
   "execution_count": null,
   "id": "a338be95",
   "metadata": {},
   "outputs": [],
   "source": []
  }
 ],
 "metadata": {
  "kernelspec": {
   "display_name": "Python 3 (ipykernel)",
   "language": "python",
   "name": "python3"
  },
  "language_info": {
   "codemirror_mode": {
    "name": "ipython",
    "version": 3
   },
   "file_extension": ".py",
   "mimetype": "text/x-python",
   "name": "python",
   "nbconvert_exporter": "python",
   "pygments_lexer": "ipython3",
   "version": "3.9.12"
  }
 },
 "nbformat": 4,
 "nbformat_minor": 5
}
